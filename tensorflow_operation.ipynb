{
 "cells": [
  {
   "cell_type": "markdown",
   "metadata": {},
   "source": [
    "'''\n",
    "tensorflow\n",
    "使用图(graphs)来表示计算任务<br>",
    "在被称之为会话(session)的上下文(context)中执行图<br>",
    "通过变量(Variable）维护状态<br>",
    "使用feed或fetch可以为任意操作赋值或者从中获取数据<br>",
    "'''"
   ]
  },
  {
   "cell_type": "code",
   "execution_count": 2,
   "metadata": {
    "collapsed": true
   },
   "outputs": [],
   "source": [
    "import tensorflow as tf"
   ]
  },
  {
   "cell_type": "code",
   "execution_count": 4,
   "metadata": {},
   "outputs": [],
   "source": [
    "#创建常量op\n",
    "m1 = tf.constant([[1,3]]) #dim==>1*2\n",
    "m2 = tf.constant([[1],[3]]) #dim==>2*1\n",
    "#m1,m2相乘\n",
    "mul = tf.matmul(m1,m2) "
   ]
  },
  {
   "cell_type": "code",
   "execution_count": 5,
   "metadata": {},
   "outputs": [
    {
     "name": "stdout",
     "output_type": "stream",
     "text": [
      "[[10]]\n"
     ]
    }
   ],
   "source": [
    "#定义会话，启动图,方法一\n",
    "sess = tf.Session()\n",
    "result = sess.run(mul)\n",
    "print(result)\n",
    "sess.close()  #关闭会话"
   ]
  },
  {
   "cell_type": "code",
   "execution_count": 6,
   "metadata": {},
   "outputs": [
    {
     "name": "stdout",
     "output_type": "stream",
     "text": [
      "[[10]]\n"
     ]
    }
   ],
   "source": [
    "# 方法一有些麻烦，还需关闭，如下方法二可自动关闭\n",
    "with tf.Session() as sess:\n",
    "    result = sess.run(mul)\n",
    "    print(result)"
   ]
  },
  {
   "cell_type": "code",
   "execution_count": 8,
   "metadata": {},
   "outputs": [
    {
     "name": "stdout",
     "output_type": "stream",
     "text": [
      "[-1  0]\n",
      "[0 2]\n"
     ]
    }
   ],
   "source": [
    "x = tf.Variable([1,2])  #定义变量\n",
    "a = tf.constant([2,2])  #定义常量\n",
    "sub = tf.subtract(x,a)  #减法\n",
    "add = tf.add(x,sub)     #加法\n",
    "\n",
    "init = tf.global_variables_initializer()  #全局变量,变量初始化\n",
    "with tf.Session() as sess:\n",
    "    sess.run(init)\n",
    "    print (sess.run(sub))\n",
    "    print (sess.run(add))"
   ]
  },
  {
   "cell_type": "code",
   "execution_count": 10,
   "metadata": {},
   "outputs": [
    {
     "name": "stdout",
     "output_type": "stream",
     "text": [
      "0\n",
      "1\n",
      "2\n",
      "3\n",
      "4\n",
      "5\n"
     ]
    }
   ],
   "source": [
    "# 一个小小的循环，每次+1\n",
    "state = tf.Variable(0,name='counter') #创建一个变量，初始化为0\n",
    "new_value = tf.add(state,1)\n",
    "update = tf.assign(state,new_value) #将new_value赋值给state\n",
    "init = tf.global_variables_initializer()  #全局变量,变量初始化\n",
    "with tf.Session() as sess:\n",
    "    sess.run(init)\n",
    "    print (sess.run(state))\n",
    "    for _ in range(5):\n",
    "        sess.run(update)\n",
    "        print(sess.run(state))"
   ]
  },
  {
   "cell_type": "code",
   "execution_count": 15,
   "metadata": {},
   "outputs": [
    {
     "name": "stdout",
     "output_type": "stream",
     "text": [
      "[3.0, 9.0]\n"
     ]
    }
   ],
   "source": [
    " #Fetch,可以在会话中运行多个op\n",
    "input1 = tf.constant(3.0)\n",
    "input2 = tf.constant(1.0)\n",
    "input3 = tf.constant(2.0)\n",
    "\n",
    "add = tf.add(input2,input3)\n",
    "mul = tf.multiply(input1,add)\n",
    "\n",
    "init = tf.global_variables_initializer()  #全局变量,变量初始化\n",
    "with tf.Session() as sess:\n",
    "    sess.run(init)\n",
    "    result = sess.run([add,mul])\n",
    "    print (result)"
   ]
  },
  {
   "cell_type": "code",
   "execution_count": 17,
   "metadata": {},
   "outputs": [
    {
     "name": "stdout",
     "output_type": "stream",
     "text": [
      "[ 2.]\n"
     ]
    }
   ],
   "source": [
    "#Feed\n",
    "input1 = tf.placeholder(tf.float32) #创建占位符\n",
    "input2 = tf.placeholder(tf.float32) #占位符\n",
    "output = tf.multiply(input1,input2)\n",
    "\n",
    "#运行时再对占位符以字典形式赋值\n",
    "with tf.Session() as sess:\n",
    "    print(sess.run(output,feed_dict={input1:[1.0],input2:[2.0]}))\n"
   ]
  },
  {
   "cell_type": "code",
   "execution_count": 19,
   "metadata": {},
   "outputs": [
    {
     "name": "stdout",
     "output_type": "stream",
     "text": [
      "0 [0.0012508056, 0.0049694981]\n",
      "20 [0.021427872, 0.084899351]\n",
      "40 [0.034661602, 0.13690682]\n",
      "60 [0.043375377, 0.17073761]\n",
      "80 [0.049146764, 0.19273585]\n",
      "100 [0.053002719, 0.20703149]\n",
      "120 [0.055611733, 0.21631296]\n",
      "140 [0.057409003, 0.22233038]\n",
      "160 [0.058677819, 0.22622298]\n",
      "180 [0.059602596, 0.22873235]\n",
      "200 [0.060303379, 0.23034132]\n"
     ]
    }
   ],
   "source": [
    "#tensorflow的一个小案例 ,拟合一个线性模型\n",
    "import numpy as np\n",
    "x_data = np.random.rand(100)\n",
    "y_data = x_data = x_data*0.1 + 0.2\n",
    "\n",
    "#构造一个线性模型\n",
    "b = tf.Variable(0.)\n",
    "k = tf.Variable(0.)\n",
    "y = k*x_data + b\n",
    "\n",
    "#二次代价函数\n",
    "loss = tf.reduce_mean(tf.square(y_data-y))\n",
    "\n",
    "#定义一个梯度下降法来进行训练的优化器\n",
    "optimizer = tf.train.GradientDescentOptimizer(0.01)\n",
    "\n",
    "#最小化代价函数\n",
    "train = optimizer.minimize(loss)\n",
    "\n",
    "#初始化变量\n",
    "init = tf.global_variables_initializer()  \n",
    "\n",
    "with tf.Session() as sess:\n",
    "    sess.run(init)\n",
    "    for step in range(201):\n",
    "        sess.run(train)\n",
    "        if step%20 == 0:\n",
    "            print(step,sess.run([k,b]))\n",
    "        "
   ]
  },
  {
   "cell_type": "code",
   "execution_count": null,
   "metadata": {},
   "outputs": [],
   "source": []
  },
  {
   "cell_type": "code",
   "execution_count": null,
   "metadata": {
    "collapsed": true
   },
   "outputs": [],
   "source": []
  }
 ],
 "metadata": {
  "kernelspec": {
   "display_name": "Python 3",
   "language": "python",
   "name": "python3"
  },
  "language_info": {
   "codemirror_mode": {
    "name": "ipython",
    "version": 3
   },
   "file_extension": ".py",
   "mimetype": "text/x-python",
   "name": "python",
   "nbconvert_exporter": "python",
   "pygments_lexer": "ipython3",
   "version": "3.6.3"
  }
 },
 "nbformat": 4,
 "nbformat_minor": 2
}
